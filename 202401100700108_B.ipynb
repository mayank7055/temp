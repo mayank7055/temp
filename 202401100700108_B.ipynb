{
  "nbformat": 4,
  "nbformat_minor": 0,
  "metadata": {
    "colab": {
      "provenance": [],
      "authorship_tag": "ABX9TyMQ4BYHaZiVuCyii2TH3Yz7",
      "include_colab_link": true
    },
    "kernelspec": {
      "name": "python3",
      "display_name": "Python 3"
    },
    "language_info": {
      "name": "python"
    }
  },
  "cells": [
    {
      "cell_type": "markdown",
      "metadata": {
        "id": "view-in-github",
        "colab_type": "text"
      },
      "source": [
        "<a href=\"https://colab.research.google.com/github/mayank7055/temp/blob/main/202401100700108_B.ipynb\" target=\"_parent\"><img src=\"https://colab.research.google.com/assets/colab-badge.svg\" alt=\"Open In Colab\"/></a>"
      ]
    },
    {
      "cell_type": "code",
      "execution_count": 6,
      "metadata": {
        "colab": {
          "base_uri": "https://localhost:8080/",
          "height": 0
        },
        "id": "SSfGcNatwk5c",
        "outputId": "364fde7c-3e68-4445-ee26-fb1db25bdbc6"
      },
      "outputs": [
        {
          "output_type": "stream",
          "name": "stdout",
          "text": [
            "Starting temperature monitoring for the industrial environment...\n",
            "Classification: Hot (Above 50°C), Cold (Below 10°C)\n",
            "\n",
            "Current Temperature: 10.91°C\n",
            "Temperature is within the normal range.\n",
            "\n",
            "Current Temperature: 11.21°C\n",
            "Temperature is within the normal range.\n",
            "\n",
            "Current Temperature: 36.76°C\n",
            "Temperature is within the normal range.\n",
            "\n",
            "Current Temperature: -1.41°C\n",
            "ALERT: Temperature is too LOW! (-1.41°C)\n",
            "\n",
            "Current Temperature: -3.27°C\n",
            "ALERT: Temperature is too LOW! (-3.27°C)\n",
            "\n",
            "Current Temperature: 41.29°C\n",
            "Temperature is within the normal range.\n",
            "\n",
            "Current Temperature: 43.91°C\n",
            "Temperature is within the normal range.\n",
            "\n",
            "Current Temperature: 49.04°C\n",
            "Temperature is within the normal range.\n",
            "\n",
            "Current Temperature: 24.20°C\n",
            "Temperature is within the normal range.\n",
            "\n",
            "Current Temperature: 51.52°C\n",
            "ALERT: Temperature is too HIGH! (51.52°C)\n",
            "\n",
            "Current Temperature: 1.85°C\n",
            "ALERT: Temperature is too LOW! (1.85°C)\n",
            "\n",
            "Press Enter to stop monitoring...\n",
            "\n",
            "Monitoring stopped. Exiting program...\n"
          ]
        }
      ],
      "source": [
        "import random\n",
        "import time\n",
        "import threading\n",
        "\n",
        "# Define temperature thresholds\n",
        "LOWER_TEMP_THRESHOLD = 10\n",
        "UPPER_TEMP_THRESHOLD = 50\n",
        "\n",
        "def monitor_temperature(stop_event):\n",
        "    \"\"\"Function to simulate temperature monitoring in an industrial environment.\"\"\"\n",
        "    print(\"Starting temperature monitoring for the industrial environment...\")\n",
        "    print(f\"Classification: Hot (Above {UPPER_TEMP_THRESHOLD}°C), Cold (Below {LOWER_TEMP_THRESHOLD}°C)\\n\")\n",
        "\n",
        "    while not stop_event.is_set():\n",
        "        current_temp = random.uniform(-5, 60)  # Simulated temperature\n",
        "        print(f\"Current Temperature: {current_temp:.2f}°C\")\n",
        "\n",
        "        if current_temp > UPPER_TEMP_THRESHOLD:\n",
        "            print(f\"ALERT: Temperature is too HIGH! ({current_temp:.2f}°C)\\n\")\n",
        "        elif current_temp < LOWER_TEMP_THRESHOLD:\n",
        "            print(f\"ALERT: Temperature is too LOW! ({current_temp:.2f}°C)\\n\")\n",
        "        else:\n",
        "            print(\"Temperature is within the normal range.\\n\")\n",
        "\n",
        "        time.sleep(2)  # Simulate a delay for monitoring\n",
        "\n",
        "def stop_monitoring(stop_event):\n",
        "    \"\"\"Function to stop temperature monitoring based on user input.\"\"\"\n",
        "    input(\"Press Enter to stop monitoring...\\n\")\n",
        "    stop_event.set()\n",
        "    print(\"Monitoring stopped. Exiting program...\")\n",
        "\n",
        "if __name__ == \"__main__\":\n",
        "    stop_event = threading.Event()\n",
        "\n",
        "    # Create and start temperature monitoring thread\n",
        "    monitor_thread = threading.Thread(target=monitor_temperature, args=(stop_event,))\n",
        "    monitor_thread.start()\n",
        "\n",
        "    # Create and start user input thread to stop monitoring\n",
        "    stop_thread = threading.Thread(target=stop_monitoring, args=(stop_event,))\n",
        "    stop_thread.start()\n",
        "\n",
        "    # Wait for both threads to complete\n",
        "    monitor_thread.join()\n",
        "    stop_thread.join()\n"
      ]
    }
  ]
}